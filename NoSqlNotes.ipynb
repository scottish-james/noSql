{
 "cells": [
  {
   "cell_type": "code",
   "execution_count": 4,
   "id": "501ca6a5-b889-4b32-aaf1-0da5f1d7c474",
   "metadata": {},
   "outputs": [],
   "source": [
    "#!pip install cassandra-driver\n",
    "import cassandra"
   ]
  },
  {
   "cell_type": "code",
   "execution_count": 19,
   "id": "915000a6-845a-41ba-b33f-bbf1f352cdc3",
   "metadata": {},
   "outputs": [
    {
     "name": "stdout",
     "output_type": "stream",
     "text": [
      "session started\n"
     ]
    }
   ],
   "source": [
    "from cassandra.cluster import Cluster\n",
    "try: \n",
    "    cluster = Cluster(['127.0.0.1'])\n",
    "    session = cluster.connect()\n",
    "    print('session started')\n",
    "except Exception as e:\n",
    "    print(e)"
   ]
  },
  {
   "cell_type": "code",
   "execution_count": 28,
   "id": "0049673c-d3d7-4027-8ccd-0586bba4e59d",
   "metadata": {},
   "outputs": [],
   "source": [
    "#Create keyspace to work in \n",
    "try: \n",
    "    session.execute(\"\"\"\n",
    "    CREATE KEYSPACE IF NOT EXISTS james_keyspace \n",
    "    WITH REPLICATION = \n",
    "    {'class': 'SimpleStrategy', 'replication_factor' : 1}\n",
    "    \"\"\")\n",
    "\n",
    "except Exception as e:\n",
    "    print(e)"
   ]
  },
  {
   "cell_type": "code",
   "execution_count": 29,
   "id": "8064a1bb-0448-4483-8483-a75831f2853e",
   "metadata": {},
   "outputs": [],
   "source": [
    "try:\n",
    "    session.set_keyspace('james_keyspace')\n",
    "except Exception as e:\n",
    "    print(e)"
   ]
  },
  {
   "cell_type": "code",
   "execution_count": 34,
   "id": "2da2f1eb-27b8-42a7-b770-810a128360fc",
   "metadata": {},
   "outputs": [],
   "source": [
    "drop1  = \"DROP TABLE IF EXISTS music_library\"\n",
    "drop2  = \"DROP TABLE IF EXISTS album_library\"\n",
    "drop3 = \"DROP TABLE IF EXISTS artist_library\"\n",
    "\n",
    "try: \n",
    "    session.execute(drop1)\n",
    "    session.execute(drop2)\n",
    "    session.execute(drop3)\n",
    "except Exception as e: \n",
    "    print(e)"
   ]
  },
  {
   "cell_type": "code",
   "execution_count": 43,
   "id": "427242f4-9ea9-432c-93d5-946579210ac9",
   "metadata": {},
   "outputs": [
    {
     "name": "stdout",
     "output_type": "stream",
     "text": [
      "Table 'music_library' created sucessfully\n",
      "Table 'album_library' created sucessfully\n",
      "Table 'artist_library' created sucessfully\n"
     ]
    }
   ],
   "source": [
    "#Create table\n",
    "def create_table(session, query, table_name):\n",
    "    \"\"\"  \n",
    "    Executes a table creation query and handles excpetions. \n",
    "\n",
    "    :param session: Cassandra session object\n",
    "    :param query: CQL query to create table|\n",
    "    :param table_name: Names of table to be created\n",
    "    \"\"\"\n",
    "    try: \n",
    "        session.execute(query)\n",
    "        print(f\"Table '{table_name}' created sucessfully\")\n",
    "    except Exception as e: \n",
    "        print(f\"Error creating '{table_name}': {e}\")\n",
    "\n",
    "create_music_library = \"\"\"\n",
    "    CREATE TABLE IF NOT EXISTS music_library(\n",
    "        year int,\n",
    "        artist_name text, \n",
    "        album_name text, \n",
    "        PRIMARY KEY (year, artist_name)\n",
    "        );\n",
    "\"\"\"\n",
    "\n",
    "create_album_library = \"\"\"\n",
    "    CREATE TABLE IF NOT EXISTS album_library(\n",
    "        album_name text,\n",
    "        artist_name text,\n",
    "        year int, \n",
    "        PRIMARY KEY (album_name, artist_name)\n",
    "    );\n",
    "\"\"\"\n",
    "\n",
    "create_artist_library = \"\"\"\n",
    "    CREATE TABLE IF NOT EXISTS artist_library(\n",
    "        artist_name text,\n",
    "        year int,\n",
    "        album_name text, \n",
    "        \n",
    "        PRIMARY KEY (artist_name, year)\n",
    "\n",
    "    \n",
    "    );\n",
    "\"\"\"\n",
    "\n",
    "create_table(session, create_music_library, 'music_library')\n",
    "create_table(session, create_album_library, 'album_library')\n",
    "create_table(session, create_artist_library, 'artist_library')\n",
    "\n",
    "\n",
    "        "
   ]
  },
  {
   "cell_type": "code",
   "execution_count": 44,
   "id": "866578a4-0295-45af-b8c4-9121d5da92a1",
   "metadata": {},
   "outputs": [
    {
     "name": "stdout",
     "output_type": "stream",
     "text": [
      "Inserted: (1970, 'The Beatles', 'Let it Be')\n",
      "Inserted: ('The Beatles', 1970, 'Let it Be')\n",
      "Inserted: ('Let it Be', 'The Beatles', 1970)\n",
      "Inserted: (1965, 'The Beatles', 'Rubber Soul')\n",
      "Inserted: ('The Beatles', 1965, 'Rubber Soul')\n",
      "Inserted: ('Rubber Soul', 'The Beatles', 1965)\n",
      "Inserted: (1965, 'The Who', 'My Generation')\n",
      "Inserted: ('The Who', 1965, 'My Generation')\n",
      "Inserted: ('My Generation', 'The Who', 1965)\n",
      "Inserted: (1966, 'The Monkees', 'The Monkees')\n",
      "Inserted: ('The Monkees', 1966, 'The Monkees')\n",
      "Inserted: ('The Monkees', 'The Monkees', 1966)\n",
      "Inserted: (1970, 'The Carpenters', 'Close To You')\n",
      "Inserted: ('The Carpenters', 1970, 'Close To You')\n",
      "Inserted: ('Close To You', 'The Carpenters', 1970)\n"
     ]
    }
   ],
   "source": [
    "# Define a helper function for executing queries\n",
    "def execute_insert(session, query, row):\n",
    "    \"\"\"\n",
    "    Executes the given insert query for the provided row data.\n",
    "    \n",
    "    :param session: Cassandra session object\n",
    "    :param query: Query to execute\n",
    "    :param row: A dictionary containing the data to insert\n",
    "    \"\"\"\n",
    "    try:\n",
    "        session.execute(query, row)\n",
    "        print(f\"Inserted: {row}\")\n",
    "    except Exception as e:\n",
    "        print(f\"Error inserting {row}: {e}\")\n",
    "\n",
    "\n",
    "# Insert queries for the three tables\n",
    "query_music = \"INSERT INTO music_library (year, artist_name, album_name) VALUES (%s, %s, %s)\"\n",
    "query_artist = \"INSERT INTO artist_library (artist_name, year, album_name) VALUES (%s, %s, %s)\"\n",
    "query_album = \"INSERT INTO album_library (album_name, artist_name, year) VALUES (%s, %s, %s)\"\n",
    "\n",
    "# Data to insert\n",
    "data = [\n",
    "    {\"year\": 1970, \"artist_name\": \"The Beatles\", \"album_name\": \"Let it Be\"},\n",
    "    {\"year\": 1965, \"artist_name\": \"The Beatles\", \"album_name\": \"Rubber Soul\"},\n",
    "    {\"year\": 1965, \"artist_name\": \"The Who\", \"album_name\": \"My Generation\"},\n",
    "    {\"year\": 1966, \"artist_name\": \"The Monkees\", \"album_name\": \"The Monkees\"},\n",
    "    {\"year\": 1970, \"artist_name\": \"The Carpenters\", \"album_name\": \"Close To You\"}\n",
    "]\n",
    "\n",
    "# Function to insert data into all three tables\n",
    "def insert_all_data(session, data):\n",
    "    for row in data:\n",
    "        # Insert into music_library\n",
    "        execute_insert(session, query_music, (row['year'], row['artist_name'], row['album_name']))\n",
    "\n",
    "        # Insert into artist_library\n",
    "        execute_insert(session, query_artist, (row['artist_name'], row['year'], row['album_name']))\n",
    "\n",
    "        # Insert into album_library\n",
    "        execute_insert(session, query_album, (row['album_name'], row['artist_name'], row['year']))\n",
    "\n",
    "# Call the function to insert all data\n",
    "insert_all_data(session, data)"
   ]
  },
  {
   "cell_type": "code",
   "execution_count": 45,
   "id": "450dca99-2a98-4b49-b7b3-8f0a90327b80",
   "metadata": {},
   "outputs": [
    {
     "name": "stdout",
     "output_type": "stream",
     "text": [
      "1970 The Beatles Let it Be\n",
      "1970 The Carpenters Close To You\n"
     ]
    }
   ],
   "source": [
    "query = \"select * from music_library WHERE YEAR=1970\"\n",
    "try:\n",
    "    rows = session.execute(query)\n",
    "except Exception as e:\n",
    "    print(e)\n",
    "    \n",
    "for row in rows:\n",
    "    print (row.year, row.artist_name, row.album_name,)"
   ]
  },
  {
   "cell_type": "code",
   "execution_count": 46,
   "id": "fbcfb4df-3f7a-49f8-93e0-bdc4484a497c",
   "metadata": {},
   "outputs": [],
   "source": [
    "session.shutdown()\n",
    "cluster.shutdown()"
   ]
  },
  {
   "cell_type": "code",
   "execution_count": null,
   "id": "e54274d2-d5dd-45e5-9d72-86e82d76d825",
   "metadata": {},
   "outputs": [],
   "source": []
  }
 ],
 "metadata": {
  "kernelspec": {
   "display_name": "Python 3 (ipykernel)",
   "language": "python",
   "name": "python3"
  },
  "language_info": {
   "codemirror_mode": {
    "name": "ipython",
    "version": 3
   },
   "file_extension": ".py",
   "mimetype": "text/x-python",
   "name": "python",
   "nbconvert_exporter": "python",
   "pygments_lexer": "ipython3",
   "version": "3.12.4"
  }
 },
 "nbformat": 4,
 "nbformat_minor": 5
}
